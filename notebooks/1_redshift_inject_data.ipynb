{
    "cells": [
        {
            "cell_type": "markdown",
            "metadata": {},
            "source": [
                "# Redshift Serverless에 가상 데이터 삽입\n",
                "\n",
                "이 노트북은 가상의 고객 데이터를 생성하고 Redshift Serverless에 삽입하는 과정을 보여줍니다."
            ]
        },
        {
            "cell_type": "code",
            "execution_count": null,
            "metadata": {},
            "outputs": [],
            "source": [
                "import boto3\n",
                "import pandas as pd\n",
                "import numpy as np\n",
                "from faker import Faker\n",
                "from sqlalchemy import create_engine\n",
                "from botocore.exceptions import ClientError"
            ]
        },
        {
            "cell_type": "code",
            "execution_count": null,
            "metadata": {},
            "outputs": [],
            "source": [
                "# Redshift Serverless 연결 정보\n",
                "redshift_serverless_namespace = \"stoa-aiml-pipeline-namespace\"\n",
                "redshift_serverless_workgroup = \"stoa-aiml-pipeline-workgroup\"\n",
                "database_name = \"dev\"  # 기본 데이터베이스 이름, 필요시 수정\n",
                "db_user = \"admin\"  # 기본 사용자 이름, 필요시 수정\n",
                "region = \"ap-northeast-2\"  # 서울 리전"
            ]
        },
        {
            "cell_type": "code",
            "execution_count": null,
            "metadata": {},
            "outputs": [],
            "source": [
                "# Redshift Serverless 엔드포인트 가져오기\n",
                "redshift_client = boto3.client('redshift-serverless', region_name=region)\n",
                "\n",
                "try:\n",
                "    response = redshift_client.get_workgroup(workgroupName=redshift_serverless_workgroup)\n",
                "    endpoint = response['workgroup']['endpoint']['address']\n",
                "    port = response['workgroup']['endpoint']['port']\n",
                "    print(f\"Redshift Serverless 엔드포인트: {endpoint}:{port}\")\n",
                "except ClientError as e:\n",
                "    print(f\"엔드포인트를 가져오는 데 실패했습니다: {e}\")"
            ]
        },
        {
            "cell_type": "code",
            "execution_count": null,
            "metadata": {},
            "outputs": [],
            "source": [
                "# 임시 자격 증명 가져오기\n",
                "sts_client = boto3.client('sts')\n",
                "response = sts_client.get_session_token()\n",
                "credentials = response['Credentials']\n",
                "\n",
                "# Redshift 연결 문자열 생성\n",
                "conn_string = f\"postgresql://{db_user}:{credentials['SessionToken']}@{endpoint}:{port}/{database_name}\"\n",
                "\n",
                "# SQLAlchemy 엔진 생성\n",
                "engine = create_engine(conn_string)"
            ]
        },
        {
            "cell_type": "code",
            "execution_count": null,
            "metadata": {},
            "outputs": [],
            "source": [
                "import numpy as np\n",
                "import pandas as pd\n",
                "from faker import Faker\n",
                "\n",
                "fake = Faker()\n",
                "\n",
                "def generate_customer_data(n):\n",
                "    # 기본 데이터 생성\n",
                "    data = {\n",
                "        'customer_id': range(1, n+1),\n",
                "        'name': [fake.name() for _ in range(n)],\n",
                "        'email': [fake.email() for _ in range(n)],\n",
                "        'age': np.random.normal(40, 15, n).astype(int),  # 평균 40세, 표준편차 15\n",
                "        'city': np.random.choice(['Seoul', 'Busan', 'Incheon', 'Daegu', 'Daejeon'], n),\n",
                "    }\n",
                "    \n",
                "    # 나이에 따른 구매 금액 경향성 추가\n",
                "    base_purchase = np.random.normal(500, 200, n)\n",
                "    age_factor = (data['age'] - 20) / 60  # 20세 ~ 80세 범위로 정규화\n",
                "    data['purchase_amount'] = (base_purchase * (1 + age_factor)).round(2)\n",
                "    data['purchase_amount'] = np.clip(data['purchase_amount'], 10, 2000)  # 10 ~ 2000 사이로 제한\n",
                "    \n",
                "    # 도시별 구매 패턴 추가\n",
                "    city_factors = {'Seoul': 1.2, 'Busan': 1.0, 'Incheon': 0.9, 'Daegu': 0.95, 'Daejeon': 0.85}\n",
                "    data['purchase_amount'] *= [city_factors[city] for city in data['city']]\n",
                "    \n",
                "    # 충성 고객 그룹 추가 (약 10%의 고객)\n",
                "    loyal_customers = np.random.choice([0, 1], n, p=[0.9, 0.1])\n",
                "    data['purchase_amount'] += loyal_customers * np.random.normal(300, 100, n)\n",
                "    \n",
                "    # 계절성 효과 추가 (예: 분기별 구매 패턴)\n",
                "    seasons = np.random.choice(['Q1', 'Q2', 'Q3', 'Q4'], n)\n",
                "    season_factors = {'Q1': 0.8, 'Q2': 1.0, 'Q3': 1.1, 'Q4': 1.3}\n",
                "    data['season'] = seasons\n",
                "    data['purchase_amount'] *= [season_factors[season] for season in seasons]\n",
                "    \n",
                "    # 최종 구매 금액 반올림\n",
                "    data['purchase_amount'] = data['purchase_amount'].round(2)\n",
                "    \n",
                "    return pd.DataFrame(data)\n",
                "\n",
                "# 10,000개의 가상 고객 데이터 생성\n",
                "df = generate_customer_data(10000)\n",
                "print(df.head())\n",
                "\n",
                "# 데이터 요약 통계\n",
                "print(df.describe())\n",
                "\n",
                "# 도시별 평균 구매 금액\n",
                "print(df.groupby('city')['purchase_amount'].mean())\n",
                "\n",
                "# 나이와 구매 금액의 상관관계\n",
                "print(f\"나이와 구매 금액의 상관계수: {df['age'].corr(df['purchase_amount']):.2f}\")\n",
                "\n",
                "# 계절별 평균 구매 금액\n",
                "print(df.groupby('season')['purchase_amount'].mean())"
            ]
        },
        {
            "cell_type": "code",
            "execution_count": null,
            "metadata": {},
            "outputs": [],
            "source": [
                "# Redshift에 테이블 생성\n",
                "create_table_query = \"\"\"\n",
                "CREATE TABLE IF NOT EXISTS customers (\n",
                "    customer_id INT PRIMARY KEY,\n",
                "    name VARCHAR(100),\n",
                "    email VARCHAR(100),\n",
                "    age INT,\n",
                "    city VARCHAR(100),\n",
                "    purchase_amount DECIMAL(10, 2)\n",
                ");\n",
                "\"\"\"\n",
                "\n",
                "with engine.connect() as conn:\n",
                "    conn.execute(create_table_query)\n",
                "    print(\"테이블이 성공적으로 생성되었습니다.\")"
            ]
        },
        {
            "cell_type": "code",
            "execution_count": null,
            "metadata": {},
            "outputs": [],
            "source": [
                "# 데이터를 Redshift에 삽입\n",
                "df.to_sql('customers', engine, if_exists='append', index=False, method='multi', chunksize=1000)\n",
                "print(\"데이터가 성공적으로 삽입되었습니다.\")"
            ]
        },
        {
            "cell_type": "code",
            "execution_count": null,
            "metadata": {},
            "outputs": [],
            "source": [
                "# 데이터 확인\n",
                "query = \"SELECT * FROM customers LIMIT 5;\"\n",
                "result = pd.read_sql(query, engine)\n",
                "result"
            ]
        },
        {
            "cell_type": "code",
            "execution_count": null,
            "metadata": {},
            "outputs": [],
            "source": [
                "# 연결 종료\n",
                "engine.dispose()\n",
                "print(\"연결이 종료되었습니다.\")"
            ]
        }
    ],
    "metadata": {
        "kernelspec": {
            "display_name": "Python 3",
            "language": "python",
            "name": "python3"
        },
        "language_info": {
            "codemirror_mode": {
                "name": "ipython",
                "version": 3
            },
            "file_extension": ".py",
            "mimetype": "text/x-python",
            "name": "python",
            "nbconvert_exporter": "python",
            "pygments_lexer": "ipython3",
            "version": "3.8.0"
        }
    },
    "nbformat": 4,
    "nbformat_minor": 4
}
