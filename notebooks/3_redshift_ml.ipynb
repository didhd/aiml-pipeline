{
    "cells": [
        {
            "cell_type": "markdown",
            "metadata": {},
            "source": [
                "# Redshift ML을 이용한 고객 구매 예측 모델\n",
                "\n",
                "이 노트북에서는 Redshift ML을 사용하여 고객의 구매 금액을 예측하는 모델을 만들고 사용하는 방법을 보여줍니다."
            ]
        },
        {
            "cell_type": "code",
            "execution_count": null,
            "metadata": {},
            "outputs": [],
            "source": [
                "import boto3\n",
                "import pandas as pd\n",
                "from botocore.exceptions import ClientError"
            ]
        },
        {
            "cell_type": "code",
            "execution_count": null,
            "metadata": {},
            "outputs": [],
            "source": [
                "# Redshift 데이터 API 클라이언트 생성\n",
                "redshift_data = boto3.client('redshift-data')\n",
                "\n",
                "# Redshift 연결 정보\n",
                "cluster_identifier = \"stoa-aiml-pipeline-workgroup\"\n",
                "database = \"dev\"\n",
                "db_user = \"admin\""
            ]
        },
        {
            "cell_type": "code",
            "execution_count": null,
            "metadata": {},
            "outputs": [],
            "source": [
                "def execute_sql(sql):\n",
                "    try:\n",
                "        response = redshift_data.execute_statement(\n",
                "            ClusterIdentifier=cluster_identifier,\n",
                "            Database=database,\n",
                "            DbUser=db_user,\n",
                "            Sql=sql\n",
                "        )\n",
                "        query_id = response['Id']\n",
                "        \n",
                "        # 쿼리 완료 대기\n",
                "        waiter = redshift_data.get_waiter('statement_finished')\n",
                "        waiter.wait(Id=query_id)\n",
                "        \n",
                "        # 결과 가져오기\n",
                "        result = redshift_data.get_statement_result(Id=query_id)\n",
                "        \n",
                "        return result\n",
                "    except ClientError as e:\n",
                "        print(f\"An error occurred: {e}\")"
            ]
        },
        {
            "cell_type": "markdown",
            "metadata": {},
            "source": [
                "## 1. 데이터 확인"
            ]
        },
        {
            "cell_type": "code",
            "execution_count": null,
            "metadata": {},
            "outputs": [],
            "source": [
                "sql = \"\"\"\n",
                "SELECT * FROM customers LIMIT 5;\n",
                "\"\"\"\n",
                "\n",
                "result = execute_sql(sql)\n",
                "df = pd.DataFrame(result['Records'], columns=[col['name'] for col in result['ColumnMetadata']])\n",
                "print(df)"
            ]
        },
        {
            "cell_type": "markdown",
            "metadata": {},
            "source": [
                "## 2. Redshift ML 모델 생성"
            ]
        },
        {
            "cell_type": "code",
            "execution_count": null,
            "metadata": {},
            "outputs": [],
            "source": [
                "sql = \"\"\"\n",
                "CREATE MODEL customer_purchase_model\n",
                "FROM (\n",
                "  SELECT age, city, season,\n",
                "         purchase_amount as target\n",
                "  FROM customers\n",
                ")\n",
                "TARGET target\n",
                "FUNCTION predict_purchase_amount\n",
                "IAM_ROLE default\n",
                "AUTO OFF\n",
                "MODEL_TYPE xgboost\n",
                "PROBLEM_TYPE regression\n",
                "OBJECTIVE 'reg:squarederror'\n",
                "PREPROCESSORS 'one-hot-encoder'\n",
                "HYPERPARAMETERS DEFAULT EXCEPT(\n",
                "  max_depth '6',\n",
                "  num_round '100'\n",
                ")\n",
                "\"\"\"\n",
                "\n",
                "execute_sql(sql)\n",
                "print(\"Model creation started. This may take a few minutes.\")"
            ]
        },
        {
            "cell_type": "markdown",
            "metadata": {},
            "source": [
                "## 3. 모델 상태 확인"
            ]
        },
        {
            "cell_type": "code",
            "execution_count": null,
            "metadata": {},
            "outputs": [],
            "source": [
                "sql = \"\"\"\n",
                "SHOW MODEL customer_purchase_model;\n",
                "\"\"\"\n",
                "\n",
                "result = execute_sql(sql)\n",
                "df = pd.DataFrame(result['Records'], columns=[col['name'] for col in result['ColumnMetadata']])\n",
                "print(df)"
            ]
        },
        {
            "cell_type": "markdown",
            "metadata": {},
            "source": [
                "## 4. 모델을 사용한 예측"
            ]
        },
        {
            "cell_type": "code",
            "execution_count": null,
            "metadata": {},
            "outputs": [],
            "source": [
                "sql = \"\"\"\n",
                "SELECT age, city, season,\n",
                "       purchase_amount as actual_amount,\n",
                "       predict_purchase_amount(age, city, season) as predicted_amount\n",
                "FROM customers\n",
                "LIMIT 10;\n",
                "\"\"\"\n",
                "\n",
                "result = execute_sql(sql)\n",
                "df = pd.DataFrame(result['Records'], columns=[col['name'] for col in result['ColumnMetadata']])\n",
                "print(df)"
            ]
        },
        {
            "cell_type": "markdown",
            "metadata": {},
            "source": [
                "## 5. 모델 성능 평가"
            ]
        },
        {
            "cell_type": "code",
            "execution_count": null,
            "metadata": {},
            "outputs": [],
            "source": [
                "sql = \"\"\"\n",
                "SELECT AVG(POWER(actual - predicted, 2)) as mse,\n",
                "       SQRT(AVG(POWER(actual - predicted, 2))) as rmse\n",
                "FROM (\n",
                "  SELECT purchase_amount as actual,\n",
                "         predict_purchase_amount(age, city, season) as predicted\n",
                "  FROM customers\n",
                ");\n",
                "\"\"\"\n",
                "\n",
                "result = execute_sql(sql)\n",
                "df = pd.DataFrame(result['Records'], columns=[col['name'] for col in result['ColumnMetadata']])\n",
                "print(df)"
            ]
        },
        {
            "cell_type": "markdown",
            "metadata": {},
            "source": [
                "## 6. 새로운 데이터에 대한 예측"
            ]
        },
        {
            "cell_type": "code",
            "execution_count": null,
            "metadata": {},
            "outputs": [],
            "source": [
                "sql = \"\"\"\n",
                "SELECT predict_purchase_amount(35, 'Seoul', 'Q4') as predicted_amount;\n",
                "\"\"\"\n",
                "\n",
                "result = execute_sql(sql)\n",
                "df = pd.DataFrame(result['Records'], columns=[col['name'] for col in result['ColumnMetadata']])\n",
                "print(df)"
            ]
        }
    ],
    "metadata": {
        "kernelspec": {
            "display_name": "Python 3",
            "language": "python",
            "name": "python3"
        },
        "language_info": {
            "codemirror_mode": {
                "name": "ipython",
                "version": 3
            },
            "file_extension": ".py",
            "mimetype": "text/x-python",
            "name": "python",
            "nbconvert_exporter": "python",
            "pygments_lexer": "ipython3",
            "version": "3.8.0"
        }
    },
    "nbformat": 4,
    "nbformat_minor": 4
}